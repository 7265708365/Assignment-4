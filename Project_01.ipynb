{
  "nbformat": 4,
  "nbformat_minor": 0,
  "metadata": {
    "colab": {
      "provenance": [],
      "authorship_tag": "ABX9TyPC1LmLoqSXsLFxe+DBQ369",
      "include_colab_link": true
    },
    "kernelspec": {
      "name": "python3",
      "display_name": "Python 3"
    },
    "language_info": {
      "name": "python"
    }
  },
  "cells": [
    {
      "cell_type": "markdown",
      "metadata": {
        "id": "view-in-github",
        "colab_type": "text"
      },
      "source": [
        "<a href=\"https://colab.research.google.com/github/7265708365/Assignment-4/blob/main/Project_01.ipynb\" target=\"_parent\"><img src=\"https://colab.research.google.com/assets/colab-badge.svg\" alt=\"Open In Colab\"/></a>"
      ]
    },
    {
      "cell_type": "markdown",
      "source": [
        "**Madlibs**"
      ],
      "metadata": {
        "id": "oTqG0tIawQp-"
      }
    },
    {
      "cell_type": "code",
      "source": [
        "#Md Libs Python Project 1\n",
        "\n",
        "name = input(\"Enter your name: \")\n",
        "place = input(\"Enter your place: \")\n",
        "adjective = input(\"Enter an adjective: \")\n",
        "noun = input(\"Enter a noun: \")\n",
        "verb = input(\"Enter a verb: \")\n",
        "\n",
        "#Md Libs Story Paragraph\n",
        "story = f\"one day, {name} went to {place}. It was a {adjective} place. There, {name} found a {noun} and decided to {verb} with it.\"\n",
        "\n",
        "print(\"Here is your mad libs story.\")\n",
        "print(story)\n"
      ],
      "metadata": {
        "colab": {
          "base_uri": "https://localhost:8080/"
        },
        "id": "ez66gBHbwe1o",
        "outputId": "767e0d56-b58f-43ae-d8c0-f3d0941ac109"
      },
      "execution_count": 2,
      "outputs": [
        {
          "output_type": "stream",
          "name": "stdout",
          "text": [
            "Enter your name: Hafsa\n",
            "Enter your place: Karachi\n",
            "Enter an adjective: fascinating\n",
            "Enter a noun: beach\n",
            "Enter a verb: enjoy\n",
            "Here is your mad libs story.\n",
            "one day, Hafsa went to Karachi. It was a fascinating place. There, Hafsa found a beach and decided to enjoy with it.\n"
          ]
        }
      ]
    }
  ]
}