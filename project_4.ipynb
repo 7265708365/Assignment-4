{
  "nbformat": 4,
  "nbformat_minor": 0,
  "metadata": {
    "colab": {
      "provenance": [],
      "authorship_tag": "ABX9TyOWDMwqbjwT7aJgkAO4Kpg1",
      "include_colab_link": true
    },
    "kernelspec": {
      "name": "python3",
      "display_name": "Python 3"
    },
    "language_info": {
      "name": "python"
    }
  },
  "cells": [
    {
      "cell_type": "markdown",
      "metadata": {
        "id": "view-in-github",
        "colab_type": "text"
      },
      "source": [
        "<a href=\"https://colab.research.google.com/github/7265708365/Assignment-4/blob/main/project_4.ipynb\" target=\"_parent\"><img src=\"https://colab.research.google.com/assets/colab-badge.svg\" alt=\"Open In Colab\"/></a>"
      ]
    },
    {
      "cell_type": "markdown",
      "source": [
        "***Rock Paper Scissor Game**"
      ],
      "metadata": {
        "id": "-Ujc4FWzHg4g"
      }
    },
    {
      "cell_type": "code",
      "source": [
        "import random\n",
        "print(\"Welcome to the Ultimate Rock, Paper, Scissor Battle!🎮 \")\n",
        "print(\"-\"*60)\n",
        "print(\"🤖 You vs Mighty Comp!💻 Let's see who wins.. 👀 \")\n",
        "print(\"\\\"\"*65)\n",
        "\n",
        "while True:\n",
        " user_input=input(\"Choose Your Weapon (Rock, Paper, Scissor):\").lower()\n",
        "\n",
        " if user_input not in [\"rock\" , \"paper\" , \"scissor\"]:\n",
        "   print(\"Not a valid Choice!\")\n",
        "   continue\n",
        "\n",
        " comp_choice=random.choice([\"rock\" , \"paper\" , \"scissor\"])\n",
        " print(f\"Your Choice {user_input}\")\n",
        " print(f\"Computer's Choice {comp_choice}\")\n",
        "\n",
        " if user_input == comp_choice:\n",
        "   print(\"It's a tie!\")\n",
        "\n",
        " elif (\n",
        "     (user_input == 'rock' and comp_choice == 'scissor') or\n",
        "     (user_input == 'paper' and comp_choice == 'scissor') or\n",
        "     (user_input == 'rock' and comp_choice == 'paper')\n",
        " ):\n",
        "   print(\"You Win!\")\n",
        " else:\n",
        "  print(\"Computer Wins! Try Again.. \")\n",
        "\n",
        " play_again=input(\"Would You like to play again? (yes/no)\" ).lower()\n",
        " if play_again !=\"yes\":\n",
        "   print(\"Alright! Will see you next time..\")\n",
        "   break\n",
        ""
      ],
      "metadata": {
        "colab": {
          "base_uri": "https://localhost:8080/"
        },
        "id": "I-p4I4AeHq82",
        "outputId": "c034e06d-d9a3-41f6-d1dd-f0cf36c1801e"
      },
      "execution_count": 3,
      "outputs": [
        {
          "output_type": "stream",
          "name": "stdout",
          "text": [
            "Welcome to the Ultimate Rock, Paper, Scissor Battle!🎮 \n",
            "------------------------------------------------------------\n",
            "🤖 You vs Mighty Comp!💻 Let's see who wins.. 👀 \n",
            "\"\"\"\"\"\"\"\"\"\"\"\"\"\"\"\"\"\"\"\"\"\"\"\"\"\"\"\"\"\"\"\"\"\"\"\"\"\"\"\"\"\"\"\"\"\"\"\"\"\"\"\"\"\"\"\"\"\"\"\"\"\"\"\"\"\n",
            "Choose Your Weapon (Rock, Paper, Scissor):paper\n",
            "Your Choice paper\n",
            "Computer's Choice scissor\n",
            "You Win!\n",
            "Would You like to play again? (yes/no)yes\n",
            "Choose Your Weapon (Rock, Paper, Scissor):scissor\n",
            "Your Choice scissor\n",
            "Computer's Choice paper\n",
            "Computer Wins! Try Again.. \n",
            "Would You like to play again? (yes/no)yes\n",
            "Choose Your Weapon (Rock, Paper, Scissor):rock\n",
            "Your Choice rock\n",
            "Computer's Choice scissor\n",
            "You Win!\n",
            "Would You like to play again? (yes/no)no\n",
            "Alright! Will see you next time..\n"
          ]
        }
      ]
    }
  ]
}