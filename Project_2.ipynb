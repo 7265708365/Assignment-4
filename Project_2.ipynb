{
  "nbformat": 4,
  "nbformat_minor": 0,
  "metadata": {
    "colab": {
      "provenance": [],
      "authorship_tag": "ABX9TyNf+ZYSDz1siGUmH5V0QMLY",
      "include_colab_link": true
    },
    "kernelspec": {
      "name": "python3",
      "display_name": "Python 3"
    },
    "language_info": {
      "name": "python"
    }
  },
  "cells": [
    {
      "cell_type": "markdown",
      "metadata": {
        "id": "view-in-github",
        "colab_type": "text"
      },
      "source": [
        "<a href=\"https://colab.research.google.com/github/7265708365/Assignment-4/blob/main/Project_2.ipynb\" target=\"_parent\"><img src=\"https://colab.research.google.com/assets/colab-badge.svg\" alt=\"Open In Colab\"/></a>"
      ]
    },
    {
      "cell_type": "markdown",
      "source": [
        "**Num Guessing Game (Comp)**"
      ],
      "metadata": {
        "id": "1X8K944o2gMp"
      }
    },
    {
      "cell_type": "code",
      "source": [
        "import random\n",
        "\n",
        "#Introduction\n",
        "print(\"Welcome to the guess the Number Game!\")\n",
        "print(\"Think of a number Between 1 and 50, and i will try to guess it.\")\n",
        "print(\"You can tell me if my guess is too high (H), too low (L), or correct (C).\")\n",
        "\n",
        "# Initial range for guessing\n",
        "low = 1\n",
        "high = 50\n",
        "guesses = 0\n",
        "\n",
        "while True:\n",
        "  # Computer Guesses a Number\n",
        "  guess = random.randint(low, high)\n",
        "  guesses += 1\n",
        "\n",
        "  #Show the Computer's Guess\n",
        "  print(f\"My guess is: {guess}\")\n",
        "  user_input = input(\"Is my guess too high (H), too low (L), or correct (C)? \").upper()\n",
        "\n",
        "  # check user response\n",
        "  if user_input == 'H':\n",
        "    high = guess - 1\n",
        "  elif user_input == 'L':\n",
        "    low = guess + 1\n",
        "  elif user_input == 'C':\n",
        "    print(f\"Yay | I guessed your number is {guesses} tries|\")\n",
        "    break\n",
        "  else:\n",
        "    print(\"Invalid Input. Please enter H, L, or C.\")\n"
      ],
      "metadata": {
        "colab": {
          "base_uri": "https://localhost:8080/"
        },
        "id": "B6Ad84kq2p8f",
        "outputId": "4b403d21-de4b-4bb6-8264-47a8a819624e"
      },
      "execution_count": 3,
      "outputs": [
        {
          "output_type": "stream",
          "name": "stdout",
          "text": [
            "Welcome to the guess the Number Game!\n",
            "Think of a number Between 1 and 50, and i will try to guess it.\n",
            "You can tell me if my guess is too high (H), too low (L), or correct (C).\n",
            "My guess is: 45\n",
            "Is my guess too high (H), too low (L), or correct (C)? h\n",
            "My guess is: 25\n",
            "Is my guess too high (H), too low (L), or correct (C)? h\n",
            "My guess is: 10\n",
            "Is my guess too high (H), too low (L), or correct (C)? h\n",
            "My guess is: 1\n",
            "Is my guess too high (H), too low (L), or correct (C)? l\n",
            "My guess is: 4\n",
            "Is my guess too high (H), too low (L), or correct (C)? l\n",
            "My guess is: 6\n",
            "Is my guess too high (H), too low (L), or correct (C)? l\n",
            "My guess is: 9\n",
            "Is my guess too high (H), too low (L), or correct (C)? h\n",
            "My guess is: 8\n",
            "Is my guess too high (H), too low (L), or correct (C)? h\n",
            "My guess is: 7\n",
            "Is my guess too high (H), too low (L), or correct (C)? c\n",
            "Yay | I guessed your number is 9 tries|\n"
          ]
        }
      ]
    }
  ]
}