{
  "nbformat": 4,
  "nbformat_minor": 0,
  "metadata": {
    "colab": {
      "provenance": [],
      "authorship_tag": "ABX9TyOKSwDOWIj1LWyK6LQ5TWx1",
      "include_colab_link": true
    },
    "kernelspec": {
      "name": "python3",
      "display_name": "Python 3"
    },
    "language_info": {
      "name": "python"
    }
  },
  "cells": [
    {
      "cell_type": "markdown",
      "metadata": {
        "id": "view-in-github",
        "colab_type": "text"
      },
      "source": [
        "<a href=\"https://colab.research.google.com/github/7265708365/Assignment-4/blob/main/Poject_7.ipynb\" target=\"_parent\"><img src=\"https://colab.research.google.com/assets/colab-badge.svg\" alt=\"Open In Colab\"/></a>"
      ]
    },
    {
      "cell_type": "markdown",
      "source": [
        "**Count Down Timer**"
      ],
      "metadata": {
        "id": "wVbq-rvKPx2K"
      }
    },
    {
      "cell_type": "code",
      "source": [
        "import time\n",
        "\n",
        "# input from user\n",
        "seconds = int(input(\"Enter time in seconds: \"))\n",
        "\n",
        "# countdown loop\n",
        "while seconds > 0:\n",
        "  print(f\"Time left: {seconds} seconds \")\n",
        "  time.sleep(1) # Wait for 1 second\n",
        "  seconds-=1\n",
        "\n",
        "print(\"⏰ Time's up!!\")"
      ],
      "metadata": {
        "colab": {
          "base_uri": "https://localhost:8080/"
        },
        "id": "xdnqTVz3P5s7",
        "outputId": "e9377edf-157a-42f4-de8d-e6baace8f535"
      },
      "execution_count": 1,
      "outputs": [
        {
          "output_type": "stream",
          "name": "stdout",
          "text": [
            "Enter time in seconds: 12\n",
            "Time left: 12 seconds \n",
            "Time left: 11 seconds \n",
            "Time left: 10 seconds \n",
            "Time left: 9 seconds \n",
            "Time left: 8 seconds \n",
            "Time left: 7 seconds \n",
            "Time left: 6 seconds \n",
            "Time left: 5 seconds \n",
            "Time left: 4 seconds \n",
            "Time left: 3 seconds \n",
            "Time left: 2 seconds \n",
            "Time left: 1 seconds \n",
            "⏰ Time's up!!\n"
          ]
        }
      ]
    }
  ]
}