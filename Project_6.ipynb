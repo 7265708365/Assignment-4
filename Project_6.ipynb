{
  "nbformat": 4,
  "nbformat_minor": 0,
  "metadata": {
    "colab": {
      "provenance": [],
      "authorship_tag": "ABX9TyPY+bVIWhMBG5wSVC8A6Dsf",
      "include_colab_link": true
    },
    "kernelspec": {
      "name": "python3",
      "display_name": "Python 3"
    },
    "language_info": {
      "name": "python"
    }
  },
  "cells": [
    {
      "cell_type": "markdown",
      "metadata": {
        "id": "view-in-github",
        "colab_type": "text"
      },
      "source": [
        "<a href=\"https://colab.research.google.com/github/7265708365/Assignment-4/blob/main/Project_6.ipynb\" target=\"_parent\"><img src=\"https://colab.research.google.com/assets/colab-badge.svg\" alt=\"Open In Colab\"/></a>"
      ]
    },
    {
      "cell_type": "markdown",
      "source": [
        "***Password Generator***"
      ],
      "metadata": {
        "id": "WLRzBhmQPEmb"
      }
    },
    {
      "cell_type": "code",
      "source": [
        "import random\n",
        "import string\n",
        "\n",
        "print(\"Your Password Generator\")\n",
        "print(\"-\"*60)\n",
        "\n",
        "# characters to use in the password generation process\n",
        "characters = string.ascii_letters + string.digits + string.punctuation\n",
        "\n",
        "# this is how outcome will look like: abdvhjjkNKJDFH2654%$&*#@!\n",
        "\n",
        "# set the desired password length\n",
        "pass_length = int( input(\"Enter your desired Password length: \"))\n",
        "if pass_length <= 4:\n",
        "  print(\"Weak Password length!\")\n",
        "else:\n",
        "\n",
        "# generate a random password\n",
        " password = ''.join(random.choice(characters) for i in range(pass_length))\n",
        " print(\"Generated Password:\" , password )"
      ],
      "metadata": {
        "colab": {
          "base_uri": "https://localhost:8080/"
        },
        "id": "PIiJvJkOPStL",
        "outputId": "e03bad50-7b10-45f4-aaef-13110c7f287d"
      },
      "execution_count": 1,
      "outputs": [
        {
          "output_type": "stream",
          "name": "stdout",
          "text": [
            "Your Password Generator\n",
            "------------------------------------------------------------\n",
            "Enter your desired Password length: 8\n",
            "Generated Password: 9-|b3uf-\n"
          ]
        }
      ]
    }
  ]
}