{
  "nbformat": 4,
  "nbformat_minor": 0,
  "metadata": {
    "colab": {
      "provenance": [],
      "authorship_tag": "ABX9TyNZf3v7er4AIko09ppVWPUv",
      "include_colab_link": true
    },
    "kernelspec": {
      "name": "python3",
      "display_name": "Python 3"
    },
    "language_info": {
      "name": "python"
    }
  },
  "cells": [
    {
      "cell_type": "markdown",
      "metadata": {
        "id": "view-in-github",
        "colab_type": "text"
      },
      "source": [
        "<a href=\"https://colab.research.google.com/github/7265708365/Assignment-4/blob/main/Project_3.ipynb\" target=\"_parent\"><img src=\"https://colab.research.google.com/assets/colab-badge.svg\" alt=\"Open In Colab\"/></a>"
      ]
    },
    {
      "cell_type": "code",
      "execution_count": 2,
      "metadata": {
        "colab": {
          "base_uri": "https://localhost:8080/"
        },
        "id": "edjnR3FJGRmO",
        "outputId": "ed431c5b-6d7c-4c6f-a59b-17c742510cc3"
      },
      "outputs": [
        {
          "output_type": "stream",
          "name": "stdout",
          "text": [
            "Welcome to the Reverse Guess The Number Game! 🎮\n",
            "------------------------------------------------------------\n",
            "Think of a number between 1-100 and I'll try to guess it! 🤖\n",
            "\"\"\"\"\"\"\"\"\"\"\"\"\"\"\"\"\"\"\"\"\"\"\"\"\"\"\"\"\"\"\"\"\"\"\"\"\"\"\"\"\"\"\"\"\"\"\"\"\"\"\"\"\"\"\"\"\"\"\"\"\"\"\"\"\"\n",
            "It is 34? (H/L/C):l\n",
            "Too Low? let me try again..\n",
            "It is 46? (H/L/C):l\n",
            "Too Low? let me try again..\n",
            "It is 94? (H/L/C):h\n",
            "Too High? Let me try again..\n",
            "It is 72? (H/L/C):h\n",
            "Too High? Let me try again..\n",
            "It is 71? (H/L/C):h\n",
            "Too High? Let me try again..\n",
            "It is 64? (H/L/C):c\n",
            "Wow! I guessed it in 6 tries\n"
          ]
        }
      ],
      "source": [
        "import random\n",
        "print(\"Welcome to the Reverse Guess The Number Game! 🎮\")\n",
        "print(\"-\"*60)\n",
        "print(\"Think of a number between 1-100 and I'll try to guess it! 🤖\")\n",
        "print(\"\\\"\"*65)\n",
        "\n",
        "\n",
        "low=1\n",
        "high=100\n",
        "attempts=0\n",
        "\n",
        "while True:\n",
        "  guess=random.randint(low,high)\n",
        "  attempts+=1\n",
        "\n",
        "  user_input=input(f\"It is {guess}? (H/L/C):\").strip().upper()\n",
        "\n",
        "  if user_input == \"H\":\n",
        "    high= guess-1\n",
        "    print(\"Too High? Let me try again..\")\n",
        "\n",
        "  elif user_input == \"L\":\n",
        "      low= guess+1\n",
        "      print(\"Too Low? let me try again..\")\n",
        "\n",
        "  elif user_input == \"C\":\n",
        "      print(f\"Wow! I guessed it in {attempts} tries\")\n",
        "      break\n",
        "\n",
        "  else:\n",
        "        print(\"Please Enter 'H' , 'L' , 'C' \")"
      ]
    }
  ]
}